{
 "cells": [
  {
   "metadata": {},
   "cell_type": "markdown",
   "source": "#  Dataset Preparation",
   "id": "701d62a78468adab"
  },
  {
   "cell_type": "code",
   "id": "initial_id",
   "metadata": {
    "collapsed": true,
    "ExecuteTime": {
     "end_time": "2024-12-18T20:37:04.104695Z",
     "start_time": "2024-12-18T20:35:19.526004Z"
    }
   },
   "source": [
    "import os\n",
    "import shutil\n",
    "from sklearn.model_selection import train_test_split\n",
    "\n",
    "# Translation dictionary for folder names\n",
    "translate = {\n",
    "    \"cane\": \"dog\", \"cavallo\": \"horse\", \"elefante\": \"elephant\", \"farfalla\": \"butterfly\",\n",
    "    \"gallina\": \"chicken\", \"gatto\": \"cat\", \"mucca\": \"cow\", \"pecora\": \"sheep\",\n",
    "    \"scoiattolo\": \"squirrel\", \"dog\": \"cane\", \"horse\": \"cavallo\",\n",
    "    \"elephant\": \"elefante\", \"butterfly\": \"farfalla\", \"chicken\": \"gallina\",\n",
    "    \"cat\": \"gatto\", \"cow\": \"mucca\", \"spider\": \"ragno\", \"squirrel\": \"scoiattolo\"\n",
    "}\n",
    "\n",
    "# Paths to the dataset\n",
    "original_dataset_dir = \"./raw-img\"\n",
    "base_dir = \"./dataset\"  # Directory for organized dataset\n",
    "\n",
    "# Create directories for train, val, test\n",
    "train_dir = os.path.join(base_dir, \"train\")\n",
    "val_dir = os.path.join(base_dir, \"val\")\n",
    "test_dir = os.path.join(base_dir, \"test\")\n",
    "\n",
    "\n",
    "def prepare_dataset():\n",
    "    if not os.path.exists(base_dir):\n",
    "        os.mkdir(base_dir)\n",
    "        os.mkdir(train_dir)\n",
    "        os.mkdir(val_dir)\n",
    "        os.mkdir(test_dir)\n",
    "\n",
    "    # Process each class folder\n",
    "    for folder in os.listdir(original_dataset_dir):\n",
    "        folder_path = os.path.join(original_dataset_dir, folder)\n",
    "        if os.path.isdir(folder_path):\n",
    "            # Translate folder name\n",
    "            class_name = translate.get(folder, folder)\n",
    "            train_class_dir = os.path.join(train_dir, class_name)\n",
    "            val_class_dir = os.path.join(val_dir, class_name)\n",
    "            test_class_dir = os.path.join(test_dir, class_name)\n",
    "\n",
    "            # Create class subfolders\n",
    "            os.makedirs(train_class_dir, exist_ok=True)\n",
    "            os.makedirs(val_class_dir, exist_ok=True)\n",
    "            os.makedirs(test_class_dir, exist_ok=True)\n",
    "\n",
    "            # Get list of all images\n",
    "            images = [os.path.join(folder_path, img) for img in os.listdir(folder_path) if img.endswith('.jpeg')]\n",
    "\n",
    "            # Split into train, val, test\n",
    "            train, test = train_test_split(images, test_size=0.2, random_state=42)\n",
    "            train, val = train_test_split(train, test_size=0.125, random_state=42)  # 10% of total for val\n",
    "\n",
    "            # Copy images to respective folders\n",
    "            for img in train:\n",
    "                shutil.copy(img, train_class_dir)\n",
    "            for img in val:\n",
    "                shutil.copy(img, val_class_dir)\n",
    "            for img in test:\n",
    "                shutil.copy(img, test_class_dir)\n",
    "\n",
    "\n",
    "prepare_dataset()\n"
   ],
   "outputs": [],
   "execution_count": 3
  },
  {
   "metadata": {
    "ExecuteTime": {
     "end_time": "2024-12-18T23:10:05.539684Z",
     "start_time": "2024-12-18T23:10:05.524530Z"
    }
   },
   "cell_type": "code",
   "source": [
    "import os\n",
    "import shutil\n",
    "# Paths to the dataset\n",
    "original_dataset_dir = \"./raw-img\"\n",
    "base_dir = \"./dataset\"  # Directory for organized dataset\n",
    "\n",
    "# Create directories for train, val, test\n",
    "train_dir = os.path.join(base_dir, \"train\")\n",
    "val_dir = os.path.join(base_dir, \"val\")\n",
    "test_dir = os.path.join(base_dir, \"test\")"
   ],
   "id": "68e08975a094248d",
   "outputs": [],
   "execution_count": 4
  },
  {
   "metadata": {},
   "cell_type": "markdown",
   "source": "# Model Design and Training",
   "id": "522202f2685c2814"
  },
  {
   "metadata": {},
   "cell_type": "markdown",
   "source": "## CNN Model Design",
   "id": "ac288e1275c7a134"
  },
  {
   "metadata": {
    "ExecuteTime": {
     "end_time": "2024-12-18T23:08:07.555130Z",
     "start_time": "2024-12-18T23:07:59.810350Z"
    }
   },
   "cell_type": "code",
   "source": [
    "import tensorflow as tf\n",
    "from tensorflow.keras import layers, models, optimizers\n",
    "from tensorflow.keras.callbacks import EarlyStopping\n",
    "import numpy as np\n",
    "from tensorflow.keras.preprocessing.image import ImageDataGenerator\n",
    "\n",
    "# Constants\n",
    "IMG_SIZE = (128, 128)  # Resize images to 128x128\n",
    "BATCH_SIZE = 32\n",
    "NUM_CLASSES = 10\n",
    "\n",
    "def create_model():\n",
    "    model = models.Sequential([\n",
    "        # Convolutional Block 1\n",
    "        layers.Conv2D(32, (3, 3), activation='relu', input_shape=(128, 128, 3)),\n",
    "        layers.MaxPooling2D((2, 2)),\n",
    "        layers.Dropout(0.2),\n",
    "        \n",
    "        # Convolutional Block 2\n",
    "        layers.Conv2D(64, (3, 3), activation='relu'),\n",
    "        layers.MaxPooling2D((2, 2)),\n",
    "        layers.Dropout(0.3),\n",
    "        \n",
    "        # Convolutional Block 3\n",
    "        layers.Conv2D(128, (3, 3), activation='relu'),\n",
    "        layers.MaxPooling2D((2, 2)),\n",
    "        layers.Dropout(0.4),\n",
    "        \n",
    "        # Flatten and Fully Connected Layer\n",
    "        layers.Flatten(),\n",
    "        layers.Dense(128, activation='relu'),\n",
    "        layers.Dropout(0.5),\n",
    "        layers.Dense(NUM_CLASSES, activation='softmax')  # Output layer\n",
    "    ])\n",
    "    \n",
    "    model.compile(\n",
    "        optimizer=optimizers.Adam(learning_rate=0.001),\n",
    "        loss='categorical_crossentropy',\n",
    "        metrics=['accuracy']\n",
    "    )\n",
    "    return model\n",
    "\n",
    "model = create_model()\n",
    "model.summary()\n"
   ],
   "id": "7081198489798f04",
   "outputs": [
    {
     "name": "stdout",
     "output_type": "stream",
     "text": [
      "Model: \"sequential\"\n",
      "_________________________________________________________________\n",
      " Layer (type)                Output Shape              Param #   \n",
      "=================================================================\n",
      " conv2d (Conv2D)             (None, 126, 126, 32)      896       \n",
      "                                                                 \n",
      " max_pooling2d (MaxPooling2  (None, 63, 63, 32)        0         \n",
      " D)                                                              \n",
      "                                                                 \n",
      " dropout (Dropout)           (None, 63, 63, 32)        0         \n",
      "                                                                 \n",
      " conv2d_1 (Conv2D)           (None, 61, 61, 64)        18496     \n",
      "                                                                 \n",
      " max_pooling2d_1 (MaxPoolin  (None, 30, 30, 64)        0         \n",
      " g2D)                                                            \n",
      "                                                                 \n",
      " dropout_1 (Dropout)         (None, 30, 30, 64)        0         \n",
      "                                                                 \n",
      " conv2d_2 (Conv2D)           (None, 28, 28, 128)       73856     \n",
      "                                                                 \n",
      " max_pooling2d_2 (MaxPoolin  (None, 14, 14, 128)       0         \n",
      " g2D)                                                            \n",
      "                                                                 \n",
      " dropout_2 (Dropout)         (None, 14, 14, 128)       0         \n",
      "                                                                 \n",
      " flatten (Flatten)           (None, 25088)             0         \n",
      "                                                                 \n",
      " dense (Dense)               (None, 128)               3211392   \n",
      "                                                                 \n",
      " dropout_3 (Dropout)         (None, 128)               0         \n",
      "                                                                 \n",
      " dense_1 (Dense)             (None, 10)                1290      \n",
      "                                                                 \n",
      "=================================================================\n",
      "Total params: 3305930 (12.61 MB)\n",
      "Trainable params: 3305930 (12.61 MB)\n",
      "Non-trainable params: 0 (0.00 Byte)\n",
      "_________________________________________________________________\n"
     ]
    }
   ],
   "execution_count": 1
  },
  {
   "metadata": {},
   "cell_type": "markdown",
   "source": "## Data Augmentation and Generators",
   "id": "4c8b51a43d680ed"
  },
  {
   "metadata": {
    "ExecuteTime": {
     "end_time": "2024-12-18T23:11:19.085303Z",
     "start_time": "2024-12-18T23:11:13.115202Z"
    }
   },
   "cell_type": "code",
   "source": [
    "# Data Augmentation\n",
    "train_datagen = ImageDataGenerator(\n",
    "    rescale=1./255,  # Normalize pixel values\n",
    "    rotation_range=30,\n",
    "    width_shift_range=0.2,\n",
    "    height_shift_range=0.2,\n",
    "    shear_range=0.2,\n",
    "    zoom_range=0.2,\n",
    "    horizontal_flip=True\n",
    ")\n",
    "\n",
    "val_test_datagen = ImageDataGenerator(rescale=1./255)  # Only normalize for validation and test\n",
    "\n",
    "# Generators\n",
    "train_generator = train_datagen.flow_from_directory(\n",
    "    train_dir,\n",
    "    target_size=IMG_SIZE,\n",
    "    batch_size=BATCH_SIZE,\n",
    "    class_mode='categorical'\n",
    ")\n",
    "\n",
    "val_generator = val_test_datagen.flow_from_directory(\n",
    "    val_dir,\n",
    "    target_size=IMG_SIZE,\n",
    "    batch_size=BATCH_SIZE,\n",
    "    class_mode='categorical'\n",
    ")\n",
    "\n",
    "test_generator = val_test_datagen.flow_from_directory(\n",
    "    test_dir,\n",
    "    target_size=IMG_SIZE,\n",
    "    batch_size=BATCH_SIZE,\n",
    "    class_mode='categorical',\n",
    "    shuffle=False  # For consistent test results\n",
    ")\n"
   ],
   "id": "f73fcbfe6bac2e80",
   "outputs": [
    {
     "name": "stdout",
     "output_type": "stream",
     "text": [
      "Found 16938 images belonging to 10 classes.\n",
      "Found 2425 images belonging to 10 classes.\n",
      "Found 4846 images belonging to 10 classes.\n"
     ]
    }
   ],
   "execution_count": 5
  },
  {
   "metadata": {},
   "cell_type": "markdown",
   "source": "## Training the Model",
   "id": "93362c5c4b95cb98"
  },
  {
   "metadata": {
    "ExecuteTime": {
     "end_time": "2024-12-19T00:39:46.227475Z",
     "start_time": "2024-12-18T23:11:29.439539Z"
    }
   },
   "cell_type": "code",
   "source": [
    "# Early Stopping\n",
    "early_stopping = EarlyStopping(monitor='val_accuracy', patience=5, restore_best_weights=True)\n",
    "\n",
    "# Training\n",
    "history = model.fit(\n",
    "    train_generator,\n",
    "    epochs=20,\n",
    "    validation_data=val_generator,\n",
    "    callbacks=[early_stopping]\n",
    ")\n"
   ],
   "id": "843c68481d58fc11",
   "outputs": [
    {
     "name": "stdout",
     "output_type": "stream",
     "text": [
      "Epoch 1/20\n",
      "530/530 [==============================] - 524s 975ms/step - loss: 2.1398 - accuracy: 0.2220 - val_loss: 1.9184 - val_accuracy: 0.3295\n",
      "Epoch 2/20\n",
      "530/530 [==============================] - 224s 422ms/step - loss: 1.9448 - accuracy: 0.3105 - val_loss: 1.7066 - val_accuracy: 0.4214\n",
      "Epoch 3/20\n",
      "530/530 [==============================] - 241s 454ms/step - loss: 1.8022 - accuracy: 0.3726 - val_loss: 1.7012 - val_accuracy: 0.4219\n",
      "Epoch 4/20\n",
      "530/530 [==============================] - 243s 458ms/step - loss: 1.6851 - accuracy: 0.4169 - val_loss: 1.5097 - val_accuracy: 0.4845\n",
      "Epoch 5/20\n",
      "530/530 [==============================] - 247s 466ms/step - loss: 1.6227 - accuracy: 0.4401 - val_loss: 1.5771 - val_accuracy: 0.4528\n",
      "Epoch 6/20\n",
      "530/530 [==============================] - 248s 467ms/step - loss: 1.5816 - accuracy: 0.4606 - val_loss: 1.3883 - val_accuracy: 0.5249\n",
      "Epoch 7/20\n",
      "530/530 [==============================] - 246s 464ms/step - loss: 1.5272 - accuracy: 0.4742 - val_loss: 1.3648 - val_accuracy: 0.5390\n",
      "Epoch 8/20\n",
      "530/530 [==============================] - 246s 465ms/step - loss: 1.5035 - accuracy: 0.4868 - val_loss: 1.3117 - val_accuracy: 0.5456\n",
      "Epoch 9/20\n",
      "530/530 [==============================] - 247s 467ms/step - loss: 1.4688 - accuracy: 0.4978 - val_loss: 1.3767 - val_accuracy: 0.5237\n",
      "Epoch 10/20\n",
      "530/530 [==============================] - 247s 466ms/step - loss: 1.4545 - accuracy: 0.5019 - val_loss: 1.2880 - val_accuracy: 0.5546\n",
      "Epoch 11/20\n",
      "530/530 [==============================] - 252s 475ms/step - loss: 1.4299 - accuracy: 0.5097 - val_loss: 1.2727 - val_accuracy: 0.5641\n",
      "Epoch 12/20\n",
      "530/530 [==============================] - 269s 508ms/step - loss: 1.4105 - accuracy: 0.5178 - val_loss: 1.2367 - val_accuracy: 0.5687\n",
      "Epoch 13/20\n",
      "530/530 [==============================] - 256s 483ms/step - loss: 1.3985 - accuracy: 0.5244 - val_loss: 1.2108 - val_accuracy: 0.5893\n",
      "Epoch 14/20\n",
      "530/530 [==============================] - 254s 479ms/step - loss: 1.3813 - accuracy: 0.5316 - val_loss: 1.2258 - val_accuracy: 0.5827\n",
      "Epoch 15/20\n",
      "530/530 [==============================] - 258s 486ms/step - loss: 1.3708 - accuracy: 0.5318 - val_loss: 1.1928 - val_accuracy: 0.5996\n",
      "Epoch 16/20\n",
      "530/530 [==============================] - 257s 485ms/step - loss: 1.3517 - accuracy: 0.5398 - val_loss: 1.2399 - val_accuracy: 0.5864\n",
      "Epoch 17/20\n",
      "530/530 [==============================] - 254s 480ms/step - loss: 1.3494 - accuracy: 0.5458 - val_loss: 1.2647 - val_accuracy: 0.5856\n",
      "Epoch 18/20\n",
      "530/530 [==============================] - 253s 477ms/step - loss: 1.3232 - accuracy: 0.5532 - val_loss: 1.1723 - val_accuracy: 0.6070\n",
      "Epoch 19/20\n",
      "530/530 [==============================] - 261s 491ms/step - loss: 1.3123 - accuracy: 0.5520 - val_loss: 1.2478 - val_accuracy: 0.5588\n",
      "Epoch 20/20\n",
      "530/530 [==============================] - 266s 501ms/step - loss: 1.3074 - accuracy: 0.5567 - val_loss: 1.2484 - val_accuracy: 0.5563\n"
     ]
    }
   ],
   "execution_count": 6
  },
  {
   "metadata": {},
   "cell_type": "markdown",
   "source": "## Evaluation",
   "id": "ce06c1e409140f6d"
  },
  {
   "metadata": {
    "ExecuteTime": {
     "end_time": "2024-12-19T00:40:27.814231Z",
     "start_time": "2024-12-19T00:39:46.303647Z"
    }
   },
   "cell_type": "code",
   "source": [
    "import matplotlib.pyplot as plt\n",
    "from sklearn.metrics import classification_report, confusion_matrix\n",
    "\n",
    "# Evaluate on test set\n",
    "test_loss, test_accuracy = model.evaluate(test_generator)\n",
    "print(f\"Test Loss: {test_loss}\")\n",
    "print(f\"Test Accuracy: {test_accuracy}\")\n",
    "\n",
    "# Plot Learning Curves\n",
    "def plot_learning_curves(history):\n",
    "    plt.figure(figsize=(12, 5))\n",
    "    plt.subplot(1, 2, 1)\n",
    "    plt.plot(history.history['accuracy'], label='Train Accuracy')\n",
    "    plt.plot(history.history['val_accuracy'], label='Validation Accuracy')\n",
    "    plt.legend()\n",
    "    plt.title('Accuracy')\n",
    "    \n",
    "    plt.subplot(1, 2, 2)\n",
    "    plt.plot(history.history['loss'], label='Train Loss')\n",
    "    plt.plot(history.history['val_loss'], label='Validation Loss')\n",
    "    plt.legend()\n",
    "    plt.title('Loss')\n",
    "    plt.show()\n",
    "\n",
    "plot_learning_curves(history)\n",
    "\n",
    "# Generate classification report and confusion matrix\n",
    "y_true = test_generator.classes\n",
    "y_pred = np.argmax(model.predict(test_generator), axis=1)\n",
    "print(\"Classification Report:\\n\", classification_report(y_true, y_pred, target_names=test_generator.class_indices.keys()))\n"
   ],
   "id": "f04990223a038a1a",
   "outputs": [
    {
     "name": "stdout",
     "output_type": "stream",
     "text": [
      "152/152 [==============================] - 19s 127ms/step - loss: 1.2676 - accuracy: 0.5565\n",
      "Test Loss: 1.2676246166229248\n",
      "Test Accuracy: 0.5565415024757385\n"
     ]
    },
    {
     "data": {
      "text/plain": [
       "<Figure size 1200x500 with 2 Axes>"
      ],
      "image/png": "[encoded data removed]"
     },
     "metadata": {},
     "output_type": "display_data"
    },
    {
     "name": "stdout",
     "output_type": "stream",
     "text": [
      "152/152 [==============================] - 15s 100ms/step\n",
      "Classification Report:\n",
      "               precision    recall  f1-score   support\n",
      "\n",
      "   butterfly       0.78      0.74      0.76       330\n",
      "         cat       0.33      0.01      0.02       246\n",
      "     chicken       0.38      0.95      0.54       620\n",
      "         cow       0.53      0.28      0.36       374\n",
      "         dog       0.69      0.44      0.53       973\n",
      "    elephant       0.49      0.60      0.54       216\n",
      "       horse       0.53      0.62      0.57       525\n",
      "       ragno       0.79      0.75      0.77       900\n",
      "       sheep       0.42      0.38      0.40       289\n",
      "    squirrel       0.59      0.25      0.35       373\n",
      "\n",
      "    accuracy                           0.56      4846\n",
      "   macro avg       0.55      0.50      0.48      4846\n",
      "weighted avg       0.59      0.56      0.54      4846\n",
      "\n"
     ]
    }
   ],
   "execution_count": 7
  }
 ],
 "metadata": {
  "kernelspec": {
   "display_name": "Python 3",
   "language": "python",
   "name": "python3"
  },
  "language_info": {
   "codemirror_mode": {
    "name": "ipython",
    "version": 2
   },
   "file_extension": ".py",
   "mimetype": "text/x-python",
   "name": "python",
   "nbconvert_exporter": "python",
   "pygments_lexer": "ipython2",
   "version": "2.7.6"
  }
 },
 "nbformat": 4,
 "nbformat_minor": 5
}
