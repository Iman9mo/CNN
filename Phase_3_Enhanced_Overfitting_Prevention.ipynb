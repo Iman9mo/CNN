{
 "cells": [
  {
   "cell_type": "markdown",
   "id": "50e3b355",
   "metadata": {},
   "source": [
    "# Phase 3: Enhanced Overfitting Prevention"
   ]
  },
  {
   "cell_type": "code",
   "id": "35c2c80a",
   "metadata": {
    "ExecuteTime": {
     "end_time": "2024-12-31T17:14:11.188436Z",
     "start_time": "2024-12-31T17:12:41.730358Z"
    }
   },
   "source": [
    "# from tensorflow.keras.applications import MobileNetV2\n",
    "from tensorflow.keras import layers, models, regularizers, optimizers\n",
    "from tensorflow.keras.preprocessing.image import ImageDataGenerator\n",
    "from tensorflow.keras.callbacks import EarlyStopping, ReduceLROnPlateau\n",
    "from sklearn.utils.class_weight import compute_class_weight\n",
    "import numpy as np"
   ],
   "outputs": [],
   "execution_count": 1
  },
  {
   "cell_type": "markdown",
   "id": "49ea53eb",
   "metadata": {},
   "source": [
    "## Constants and Data Paths"
   ]
  },
  {
   "cell_type": "code",
   "id": "9a36884c",
   "metadata": {
    "ExecuteTime": {
     "end_time": "2024-12-31T17:14:14.552664Z",
     "start_time": "2024-12-31T17:14:14.516057Z"
    }
   },
   "source": [
    "IMG_SIZE = (128, 128)\n",
    "BATCH_SIZE = 32\n",
    "NUM_CLASSES = 10\n",
    "\n",
    "# Directories (replace with your dataset paths)\n",
    "train_dir = './dataset/train'\n",
    "val_dir = './dataset/val'\n",
    "test_dir = './dataset/test'"
   ],
   "outputs": [],
   "execution_count": 2
  },
  {
   "cell_type": "markdown",
   "id": "b9325841",
   "metadata": {},
   "source": [
    "## Enhanced Data Generators"
   ]
  },
  {
   "cell_type": "code",
   "id": "2082a13d",
   "metadata": {
    "ExecuteTime": {
     "end_time": "2024-12-31T17:14:16.029321Z",
     "start_time": "2024-12-31T17:14:14.588877Z"
    }
   },
   "source": [
    "def create_optimized_data_generators():\n",
    "    train_datagen = ImageDataGenerator(\n",
    "        rescale=1./255,\n",
    "        rotation_range=40,\n",
    "        width_shift_range=0.2,\n",
    "        height_shift_range=0.2,\n",
    "        shear_range=0.2,\n",
    "        zoom_range=0.2,\n",
    "        horizontal_flip=True,\n",
    "        brightness_range=[0.8, 1.2],\n",
    "        fill_mode='nearest'\n",
    "    )\n",
    "\n",
    "    val_test_datagen = ImageDataGenerator(rescale=1./255)\n",
    "\n",
    "    train_generator = train_datagen.flow_from_directory(\n",
    "        train_dir,\n",
    "        target_size=IMG_SIZE,\n",
    "        batch_size=BATCH_SIZE,\n",
    "        class_mode='categorical'\n",
    "    )\n",
    "    val_generator = val_test_datagen.flow_from_directory(\n",
    "        val_dir,\n",
    "        target_size=IMG_SIZE,\n",
    "        batch_size=BATCH_SIZE,\n",
    "        class_mode='categorical'\n",
    "    )\n",
    "    test_generator = val_test_datagen.flow_from_directory(\n",
    "        test_dir,\n",
    "        target_size=IMG_SIZE,\n",
    "        batch_size=BATCH_SIZE,\n",
    "        class_mode='categorical',\n",
    "        shuffle=False\n",
    "    )\n",
    "    return train_generator, val_generator, test_generator\n",
    "\n",
    "train_generator, val_generator, test_generator = create_optimized_data_generators()"
   ],
   "outputs": [
    {
     "name": "stdout",
     "output_type": "stream",
     "text": [
      "Found 16938 images belonging to 10 classes.\n",
      "Found 2425 images belonging to 10 classes.\n",
      "Found 4846 images belonging to 10 classes.\n"
     ]
    }
   ],
   "execution_count": 3
  },
  {
   "cell_type": "markdown",
   "id": "ffad45d6",
   "metadata": {},
   "source": [
    "## Calculate Class Weights"
   ]
  },
  {
   "cell_type": "code",
   "id": "4894febc",
   "metadata": {
    "ExecuteTime": {
     "end_time": "2024-12-31T17:14:16.793255Z",
     "start_time": "2024-12-31T17:14:16.157708Z"
    }
   },
   "source": [
    "class_weights = compute_class_weight(\n",
    "    class_weight='balanced',\n",
    "    classes=np.unique(train_generator.classes),\n",
    "    y=train_generator.classes\n",
    ")\n",
    "class_weights = {i: class_weights[i] for i in range(NUM_CLASSES)}"
   ],
   "outputs": [],
   "execution_count": 4
  },
  {
   "cell_type": "markdown",
   "id": "457b2eb4",
   "metadata": {},
   "source": [
    "## Retrain Phase 1 Model"
   ]
  },
  {
   "cell_type": "code",
   "id": "bce76422",
   "metadata": {
    "ExecuteTime": {
     "end_time": "2024-12-31T17:14:18.946164Z",
     "start_time": "2024-12-31T17:14:16.830491Z"
    }
   },
   "source": [
    "def retrain_phase_1_model():\n",
    "    model = models.Sequential([\n",
    "        layers.Conv2D(32, (3, 3), activation='relu', input_shape=(128, 128, 3)),\n",
    "        layers.BatchNormalization(),\n",
    "        layers.MaxPooling2D((2, 2)),\n",
    "        layers.Conv2D(64, (3, 3), activation='relu'),\n",
    "        layers.BatchNormalization(),\n",
    "        layers.MaxPooling2D((2, 2)),\n",
    "        layers.Conv2D(128, (3, 3), activation='relu'),\n",
    "        layers.BatchNormalization(),\n",
    "        layers.MaxPooling2D((2, 2)),\n",
    "        layers.Flatten(),\n",
    "        layers.Dense(512, activation='relu', kernel_regularizer=regularizers.l2(0.001)),\n",
    "        layers.Dropout(0.5),\n",
    "        layers.Dense(NUM_CLASSES, activation='softmax')\n",
    "    ])\n",
    "\n",
    "    model.compile(\n",
    "        optimizer=optimizers.Adam(learning_rate=0.0001),\n",
    "        loss='categorical_crossentropy',\n",
    "        metrics=['accuracy']\n",
    "    )\n",
    "    return model\n",
    "\n",
    "phase_1_model = retrain_phase_1_model()"
   ],
   "outputs": [],
   "execution_count": 5
  },
  {
   "cell_type": "markdown",
   "id": "8b6e133b",
   "metadata": {},
   "source": [
    "## Train Phase 1 Model"
   ]
  },
  {
   "cell_type": "code",
   "id": "f962c31d",
   "metadata": {
    "ExecuteTime": {
     "end_time": "2024-12-31T20:26:07.117345Z",
     "start_time": "2024-12-31T17:14:18.963258Z"
    }
   },
   "source": [
    "def train_model(model, train_gen, val_gen, epochs=30, class_weights=None):\n",
    "    early_stopping = EarlyStopping(monitor='val_accuracy', patience=5, restore_best_weights=True)\n",
    "    reduce_lr = ReduceLROnPlateau(monitor='val_loss', factor=0.2, patience=3, min_lr=1e-6)\n",
    "\n",
    "    history = model.fit(\n",
    "        train_gen,\n",
    "        validation_data=val_gen,\n",
    "        epochs=epochs,\n",
    "        callbacks=[early_stopping, reduce_lr],\n",
    "        class_weight=class_weights\n",
    "    )\n",
    "    return history\n",
    "\n",
    "history_phase_1 = train_model(phase_1_model, train_generator, val_generator, class_weights=class_weights)\n",
    "phase_1_model.save('phase_1_overfit_prevented_model.keras')"
   ],
   "outputs": [
    {
     "name": "stdout",
     "output_type": "stream",
     "text": [
      "Epoch 1/30\n",
      "530/530 [==============================] - 551s 1s/step - loss: 3.2841 - accuracy: 0.2240 - val_loss: 2.8160 - val_accuracy: 0.3505 - lr: 1.0000e-04\n",
      "Epoch 2/30\n",
      "530/530 [==============================] - 402s 757ms/step - loss: 2.9162 - accuracy: 0.2948 - val_loss: 2.8046 - val_accuracy: 0.3584 - lr: 1.0000e-04\n",
      "Epoch 3/30\n",
      "530/530 [==============================] - 409s 772ms/step - loss: 2.7541 - accuracy: 0.3271 - val_loss: 2.6041 - val_accuracy: 0.3951 - lr: 1.0000e-04\n",
      "Epoch 4/30\n",
      "530/530 [==============================] - 411s 775ms/step - loss: 2.6297 - accuracy: 0.3409 - val_loss: 2.4360 - val_accuracy: 0.4095 - lr: 1.0000e-04\n",
      "Epoch 5/30\n",
      "530/530 [==============================] - 408s 769ms/step - loss: 2.4735 - accuracy: 0.3670 - val_loss: 2.4039 - val_accuracy: 0.3975 - lr: 1.0000e-04\n",
      "Epoch 6/30\n",
      "530/530 [==============================] - 410s 774ms/step - loss: 2.3539 - accuracy: 0.3871 - val_loss: 2.1033 - val_accuracy: 0.4713 - lr: 1.0000e-04\n",
      "Epoch 7/30\n",
      "530/530 [==============================] - 390s 736ms/step - loss: 2.2297 - accuracy: 0.4047 - val_loss: 2.0876 - val_accuracy: 0.4507 - lr: 1.0000e-04\n",
      "Epoch 8/30\n",
      "530/530 [==============================] - 397s 749ms/step - loss: 2.1225 - accuracy: 0.4087 - val_loss: 1.8837 - val_accuracy: 0.4882 - lr: 1.0000e-04\n",
      "Epoch 9/30\n",
      "530/530 [==============================] - 398s 750ms/step - loss: 2.0114 - accuracy: 0.4309 - val_loss: 2.0562 - val_accuracy: 0.4322 - lr: 1.0000e-04\n",
      "Epoch 10/30\n",
      "530/530 [==============================] - 395s 745ms/step - loss: 1.9385 - accuracy: 0.4349 - val_loss: 1.9877 - val_accuracy: 0.4474 - lr: 1.0000e-04\n",
      "Epoch 11/30\n",
      "530/530 [==============================] - 403s 760ms/step - loss: 1.8599 - accuracy: 0.4518 - val_loss: 1.9380 - val_accuracy: 0.4759 - lr: 1.0000e-04\n",
      "Epoch 12/30\n",
      "530/530 [==============================] - 384s 723ms/step - loss: 1.7524 - accuracy: 0.4813 - val_loss: 1.7808 - val_accuracy: 0.4870 - lr: 2.0000e-05\n",
      "Epoch 13/30\n",
      "530/530 [==============================] - 366s 691ms/step - loss: 1.7018 - accuracy: 0.4924 - val_loss: 1.7101 - val_accuracy: 0.5097 - lr: 2.0000e-05\n",
      "Epoch 14/30\n",
      "530/530 [==============================] - 366s 689ms/step - loss: 1.6700 - accuracy: 0.5018 - val_loss: 1.7135 - val_accuracy: 0.5068 - lr: 2.0000e-05\n",
      "Epoch 15/30\n",
      "530/530 [==============================] - 365s 689ms/step - loss: 1.6428 - accuracy: 0.5049 - val_loss: 1.7050 - val_accuracy: 0.5019 - lr: 2.0000e-05\n",
      "Epoch 16/30\n",
      "530/530 [==============================] - 367s 693ms/step - loss: 1.6364 - accuracy: 0.5070 - val_loss: 1.7218 - val_accuracy: 0.5010 - lr: 2.0000e-05\n",
      "Epoch 17/30\n",
      "530/530 [==============================] - 385s 726ms/step - loss: 1.6031 - accuracy: 0.5180 - val_loss: 1.7236 - val_accuracy: 0.5097 - lr: 2.0000e-05\n",
      "Epoch 18/30\n",
      "530/530 [==============================] - 368s 694ms/step - loss: 1.5793 - accuracy: 0.5189 - val_loss: 1.6527 - val_accuracy: 0.5179 - lr: 2.0000e-05\n",
      "Epoch 19/30\n",
      "530/530 [==============================] - 384s 724ms/step - loss: 1.5524 - accuracy: 0.5250 - val_loss: 1.6913 - val_accuracy: 0.5068 - lr: 2.0000e-05\n",
      "Epoch 20/30\n",
      "530/530 [==============================] - 440s 830ms/step - loss: 1.5325 - accuracy: 0.5332 - val_loss: 1.6448 - val_accuracy: 0.5320 - lr: 2.0000e-05\n",
      "Epoch 21/30\n",
      "530/530 [==============================] - 402s 759ms/step - loss: 1.5022 - accuracy: 0.5357 - val_loss: 1.6282 - val_accuracy: 0.5249 - lr: 2.0000e-05\n",
      "Epoch 22/30\n",
      "530/530 [==============================] - 387s 730ms/step - loss: 1.4846 - accuracy: 0.5377 - val_loss: 1.6634 - val_accuracy: 0.5138 - lr: 2.0000e-05\n",
      "Epoch 23/30\n",
      "530/530 [==============================] - 402s 758ms/step - loss: 1.4874 - accuracy: 0.5452 - val_loss: 1.7058 - val_accuracy: 0.5105 - lr: 2.0000e-05\n",
      "Epoch 24/30\n",
      "530/530 [==============================] - 414s 781ms/step - loss: 1.4668 - accuracy: 0.5496 - val_loss: 1.4697 - val_accuracy: 0.5773 - lr: 2.0000e-05\n",
      "Epoch 25/30\n",
      "530/530 [==============================] - 370s 698ms/step - loss: 1.4572 - accuracy: 0.5521 - val_loss: 1.5251 - val_accuracy: 0.5522 - lr: 2.0000e-05\n",
      "Epoch 26/30\n",
      "530/530 [==============================] - 384s 723ms/step - loss: 1.4383 - accuracy: 0.5570 - val_loss: 1.5371 - val_accuracy: 0.5542 - lr: 2.0000e-05\n",
      "Epoch 27/30\n",
      "530/530 [==============================] - 376s 708ms/step - loss: 1.4328 - accuracy: 0.5610 - val_loss: 1.6146 - val_accuracy: 0.5419 - lr: 2.0000e-05\n",
      "Epoch 28/30\n",
      "530/530 [==============================] - 385s 727ms/step - loss: 1.4002 - accuracy: 0.5760 - val_loss: 1.5756 - val_accuracy: 0.5501 - lr: 4.0000e-06\n",
      "Epoch 29/30\n",
      "530/530 [==============================] - 385s 726ms/step - loss: 1.3907 - accuracy: 0.5801 - val_loss: 1.5582 - val_accuracy: 0.5588 - lr: 4.0000e-06\n"
     ]
    }
   ],
   "execution_count": 6
  },
  {
   "cell_type": "markdown",
   "id": "ecff1484",
   "metadata": {},
   "source": [
    "## Retrain Phase 2 Model"
   ]
  },
  {
   "cell_type": "code",
   "id": "d73adc9b",
   "metadata": {
    "ExecuteTime": {
     "end_time": "2024-12-31T20:26:07.755395Z",
     "start_time": "2024-12-31T20:26:07.427163Z"
    }
   },
   "source": [
    "def retrain_phase_2_model():\n",
    "    model = models.Sequential([\n",
    "        layers.Conv2D(32, (3, 3), activation='relu', input_shape=(128, 128, 3)),\n",
    "        layers.BatchNormalization(),\n",
    "        layers.MaxPooling2D((2, 2)),\n",
    "        layers.Conv2D(64, (3, 3), activation='relu'),\n",
    "        layers.BatchNormalization(),\n",
    "        layers.MaxPooling2D((2, 2)),\n",
    "        layers.Conv2D(128, (3, 3), activation='relu'),\n",
    "        layers.BatchNormalization(),\n",
    "        layers.MaxPooling2D((2, 2)),\n",
    "        layers.Flatten(),\n",
    "        layers.Dense(256, activation='relu', kernel_regularizer=regularizers.l2(0.001)),\n",
    "        layers.Dropout(0.5),\n",
    "        layers.Dense(NUM_CLASSES, activation='softmax')\n",
    "    ])\n",
    "\n",
    "    model.compile(\n",
    "        optimizer=optimizers.Adam(learning_rate=0.0001),\n",
    "        loss='categorical_crossentropy',\n",
    "        metrics=['accuracy']\n",
    "    )\n",
    "    return model\n",
    "\n",
    "phase_2_model = retrain_phase_2_model()"
   ],
   "outputs": [],
   "execution_count": 7
  },
  {
   "cell_type": "markdown",
   "id": "e26b5ae3",
   "metadata": {},
   "source": [
    "## Train Phase 2 Model"
   ]
  },
  {
   "cell_type": "code",
   "id": "5d5888dd",
   "metadata": {
    "ExecuteTime": {
     "end_time": "2024-12-31T23:25:34.093353Z",
     "start_time": "2024-12-31T20:26:07.765398Z"
    }
   },
   "source": [
    "history_phase_2 = train_model(phase_2_model, train_generator, val_generator, class_weights=class_weights)\n",
    "phase_2_model.save('phase_2_overfit_prevented_model.keras')"
   ],
   "outputs": [
    {
     "name": "stdout",
     "output_type": "stream",
     "text": [
      "Epoch 1/30\n",
      "530/530 [==============================] - 357s 670ms/step - loss: 2.8095 - accuracy: 0.1951 - val_loss: 2.4659 - val_accuracy: 0.2866 - lr: 1.0000e-04\n",
      "Epoch 2/30\n",
      "530/530 [==============================] - 344s 649ms/step - loss: 2.5839 - accuracy: 0.2346 - val_loss: 2.3875 - val_accuracy: 0.3039 - lr: 1.0000e-04\n",
      "Epoch 3/30\n",
      "530/530 [==============================] - 342s 644ms/step - loss: 2.4635 - accuracy: 0.2744 - val_loss: 2.2359 - val_accuracy: 0.3748 - lr: 1.0000e-04\n",
      "Epoch 4/30\n",
      "530/530 [==============================] - 428s 807ms/step - loss: 2.3775 - accuracy: 0.2965 - val_loss: 2.1881 - val_accuracy: 0.3975 - lr: 1.0000e-04\n",
      "Epoch 5/30\n",
      "530/530 [==============================] - 371s 700ms/step - loss: 2.2779 - accuracy: 0.3221 - val_loss: 2.2504 - val_accuracy: 0.3616 - lr: 1.0000e-04\n",
      "Epoch 6/30\n",
      "530/530 [==============================] - 373s 703ms/step - loss: 2.1931 - accuracy: 0.3383 - val_loss: 2.0007 - val_accuracy: 0.4318 - lr: 1.0000e-04\n",
      "Epoch 7/30\n",
      "530/530 [==============================] - 363s 684ms/step - loss: 2.1154 - accuracy: 0.3517 - val_loss: 1.9411 - val_accuracy: 0.4309 - lr: 1.0000e-04\n",
      "Epoch 8/30\n",
      "530/530 [==============================] - 369s 695ms/step - loss: 2.0520 - accuracy: 0.3633 - val_loss: 1.8569 - val_accuracy: 0.4565 - lr: 1.0000e-04\n",
      "Epoch 9/30\n",
      "530/530 [==============================] - 373s 704ms/step - loss: 1.9730 - accuracy: 0.3740 - val_loss: 1.8321 - val_accuracy: 0.4371 - lr: 1.0000e-04\n",
      "Epoch 10/30\n",
      "530/530 [==============================] - 373s 703ms/step - loss: 1.9053 - accuracy: 0.3873 - val_loss: 1.9066 - val_accuracy: 0.4103 - lr: 1.0000e-04\n",
      "Epoch 11/30\n",
      "530/530 [==============================] - 341s 644ms/step - loss: 1.8550 - accuracy: 0.4051 - val_loss: 1.7395 - val_accuracy: 0.4515 - lr: 1.0000e-04\n",
      "Epoch 12/30\n",
      "530/530 [==============================] - 337s 635ms/step - loss: 1.8045 - accuracy: 0.4137 - val_loss: 1.6605 - val_accuracy: 0.4804 - lr: 1.0000e-04\n",
      "Epoch 13/30\n",
      "530/530 [==============================] - 333s 628ms/step - loss: 1.7610 - accuracy: 0.4286 - val_loss: 1.7433 - val_accuracy: 0.4577 - lr: 1.0000e-04\n",
      "Epoch 14/30\n",
      "530/530 [==============================] - 332s 625ms/step - loss: 1.7379 - accuracy: 0.4231 - val_loss: 1.8048 - val_accuracy: 0.4429 - lr: 1.0000e-04\n",
      "Epoch 15/30\n",
      "530/530 [==============================] - 365s 688ms/step - loss: 1.7045 - accuracy: 0.4461 - val_loss: 1.7082 - val_accuracy: 0.4816 - lr: 1.0000e-04\n",
      "Epoch 16/30\n",
      "530/530 [==============================] - 376s 709ms/step - loss: 1.6264 - accuracy: 0.4671 - val_loss: 1.6626 - val_accuracy: 0.4878 - lr: 2.0000e-05\n",
      "Epoch 17/30\n",
      "530/530 [==============================] - 395s 745ms/step - loss: 1.6102 - accuracy: 0.4729 - val_loss: 1.6383 - val_accuracy: 0.4953 - lr: 2.0000e-05\n",
      "Epoch 18/30\n",
      "530/530 [==============================] - 372s 701ms/step - loss: 1.5922 - accuracy: 0.4812 - val_loss: 1.5783 - val_accuracy: 0.5039 - lr: 2.0000e-05\n",
      "Epoch 19/30\n",
      "530/530 [==============================] - 365s 688ms/step - loss: 1.5530 - accuracy: 0.4868 - val_loss: 1.6401 - val_accuracy: 0.4903 - lr: 2.0000e-05\n",
      "Epoch 20/30\n",
      "530/530 [==============================] - 356s 671ms/step - loss: 1.5312 - accuracy: 0.4977 - val_loss: 1.6549 - val_accuracy: 0.4969 - lr: 2.0000e-05\n",
      "Epoch 21/30\n",
      "530/530 [==============================] - 350s 661ms/step - loss: 1.5211 - accuracy: 0.5028 - val_loss: 1.6005 - val_accuracy: 0.5076 - lr: 2.0000e-05\n",
      "Epoch 22/30\n",
      "530/530 [==============================] - 348s 656ms/step - loss: 1.4960 - accuracy: 0.5001 - val_loss: 1.5906 - val_accuracy: 0.5047 - lr: 4.0000e-06\n",
      "Epoch 23/30\n",
      "530/530 [==============================] - 349s 658ms/step - loss: 1.4981 - accuracy: 0.5112 - val_loss: 1.5875 - val_accuracy: 0.5085 - lr: 4.0000e-06\n",
      "Epoch 24/30\n",
      "530/530 [==============================] - 349s 659ms/step - loss: 1.4933 - accuracy: 0.5117 - val_loss: 1.6039 - val_accuracy: 0.5089 - lr: 4.0000e-06\n",
      "Epoch 25/30\n",
      "530/530 [==============================] - 349s 658ms/step - loss: 1.4875 - accuracy: 0.5089 - val_loss: 1.5787 - val_accuracy: 0.5167 - lr: 1.0000e-06\n",
      "Epoch 26/30\n",
      "530/530 [==============================] - 349s 659ms/step - loss: 1.4843 - accuracy: 0.5144 - val_loss: 1.5721 - val_accuracy: 0.5130 - lr: 1.0000e-06\n",
      "Epoch 27/30\n",
      "530/530 [==============================] - 349s 658ms/step - loss: 1.4825 - accuracy: 0.5129 - val_loss: 1.5841 - val_accuracy: 0.5109 - lr: 1.0000e-06\n",
      "Epoch 28/30\n",
      "530/530 [==============================] - 349s 658ms/step - loss: 1.4816 - accuracy: 0.5138 - val_loss: 1.5798 - val_accuracy: 0.5142 - lr: 1.0000e-06\n",
      "Epoch 29/30\n",
      "530/530 [==============================] - 352s 663ms/step - loss: 1.4907 - accuracy: 0.5084 - val_loss: 1.5838 - val_accuracy: 0.5163 - lr: 1.0000e-06\n",
      "Epoch 30/30\n",
      "530/530 [==============================] - 350s 661ms/step - loss: 1.4821 - accuracy: 0.5098 - val_loss: 1.5817 - val_accuracy: 0.5113 - lr: 1.0000e-06\n"
     ]
    }
   ],
   "execution_count": 8
  },
  {
   "cell_type": "markdown",
   "id": "e0c29389",
   "metadata": {},
   "source": [
    "## Test and Evaluate Models"
   ]
  },
  {
   "cell_type": "code",
   "id": "0efe6ec5",
   "metadata": {
    "ExecuteTime": {
     "end_time": "2024-12-31T23:26:19.413763Z",
     "start_time": "2024-12-31T23:25:34.205498Z"
    }
   },
   "source": [
    "def evaluate_model(model, test_gen):\n",
    "    test_loss, test_accuracy = model.evaluate(test_gen)\n",
    "    print(f\"Test Loss: {test_loss}\")\n",
    "    print(f\"Test Accuracy: {test_accuracy}\")\n",
    "\n",
    "evaluate_model(phase_1_model, test_generator)\n",
    "evaluate_model(phase_2_model, test_generator)"
   ],
   "outputs": [
    {
     "name": "stdout",
     "output_type": "stream",
     "text": [
      "152/152 [==============================] - 23s 153ms/step - loss: 1.4744 - accuracy: 0.5716\n",
      "Test Loss: 1.4743930101394653\n",
      "Test Accuracy: 0.5716054439544678\n",
      "152/152 [==============================] - 21s 139ms/step - loss: 1.5577 - accuracy: 0.5194\n",
      "Test Loss: 1.557662844657898\n",
      "Test Accuracy: 0.5193974375724792\n"
     ]
    }
   ],
   "execution_count": 9
  }
 ],
 "metadata": {
  "kernelspec": {
   "name": "python3",
   "language": "python",
   "display_name": "Python 3 (ipykernel)"
  }
 },
 "nbformat": 4,
 "nbformat_minor": 5
}
